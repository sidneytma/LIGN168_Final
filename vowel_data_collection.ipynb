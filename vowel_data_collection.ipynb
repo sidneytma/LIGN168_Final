{
 "cells": [
  {
   "cell_type": "markdown",
   "id": "84983e06",
   "metadata": {},
   "source": [
    "# Vowel Data Collection\n",
    "\n",
    "This notebook includes all code involved in collecting formant data for vowels, working with the alignment data collected from the phoneme alignment notebook.\n",
    "\n",
    "## Setup"
   ]
  },
  {
   "cell_type": "code",
   "execution_count": null,
   "id": "279237b7",
   "metadata": {},
   "outputs": [],
   "source": [
    "import numpy as np\n",
    "\n",
    "import parselmouth\n",
    "import matplotlib.pyplot as plt\n",
    "\n",
    "from tqdm import tqdm\n",
    "import json"
   ]
  },
  {
   "cell_type": "code",
   "execution_count": null,
   "id": "7bd7ec34",
   "metadata": {},
   "outputs": [],
   "source": [
    "# Prepare texts\n",
    "TEXTS = [\n",
    "    \"Petey's mom got a CD record of 'Everlong' by Foo Fighters.\",\n",
    "    \"Jude said goodbye to his pet goose when he moved to Tuscon, Arizona.\",\n",
    "    \"I went to watch a movie instead, and I met my friend there.\",\n",
    "    \"My dog thought it was odd that he never got to eat human food.\",\n",
    "    \"Who bought my seat at the 3D movie theater?\",\n",
    "    \"My job schedule is full – can Bob do Tuesday at the beach instead?\"\n",
    "]\n",
    "\n",
    "# Prepare audio titles\n",
    "AUDIOS_1 = [\"petey1\", \"jude1\", \"movie1\", \"dog1\", \"who1\", \"job1\"]\n",
    "AUDIOS_2 = [\"petey2\", \"jude2\", \"movie2\", \"dog2\", \"who2\", \"job2\"]\n",
    "AUDIOS_3 = [\"petey3\", \"jude3\", \"movie3\", \"dog3\", \"who3\", \"job3\"]\n",
    "AUDIOS_4 = [\"petey4\", \"jude4\", \"movie4\", \"dog4\", \"who4\", \"job4\"]\n",
    "\n",
    "# Prepare audio filenames\n",
    "FILES_1 = [f\"audios/{audio}.wav\" for audio in AUDIOS_1]\n",
    "FILES_2 = [f\"audios/{audio}.wav\" for audio in AUDIOS_2]\n",
    "FILES_3 = [f\"audios/{audio}.wav\" for audio in AUDIOS_3]\n",
    "FILES_4 = [f\"audios/{audio}.wav\" for audio in AUDIOS_4]\n",
    "\n",
    "# Prepare testing conditions\n",
    "CONDITIONS = [FILES_1, FILES_2, FILES_3, FILES_4]\n",
    "\n",
    "# Prepare vowels\n",
    "VOWELS = [\"i\", \"e\", \"a\", \"u\"]\n",
    "\n",
    "# Load in alignments\n",
    "with open('alignments.json') as json_file:\n",
    "    ALIGNMENTS = json.load(json_file) "
   ]
  },
  {
   "cell_type": "markdown",
   "id": "d44743eb",
   "metadata": {},
   "source": [
    "## Get the formants of vowels from an audio file"
   ]
  },
  {
   "cell_type": "code",
   "execution_count": null,
   "id": "2c7236a7",
   "metadata": {},
   "outputs": [],
   "source": [
    "# get F1/F2 data from a wavfile\n",
    "def get_formant_data(file):\n",
    "    snd = parselmouth.Sound(file)\n",
    "    formant = snd.to_formant_burg()\n",
    "    time_values = formant.xs()\n",
    "    f1_values = []\n",
    "    f2_values = []\n",
    "    for t in time_values:\n",
    "        f1_values.append(formant.get_value_at_time(1, t))\n",
    "        f2_values.append(formant.get_value_at_time(2, t))\n",
    "    f1_values = np.array(f1_values)\n",
    "    f2_values = np.array(f2_values)\n",
    "    return np.vstack((time_values, f1_values, f2_values))\n",
    "\n",
    "# from an alignment data chunk, get the starts and ends of each vowel\n",
    "def get_vowel_annotations(alignment):\n",
    "    i_annotations = []\n",
    "    e_annotations = []\n",
    "    a_annotations = []\n",
    "    u_annotations = []\n",
    "    for start, end, sound in alignment:\n",
    "        if sound == \"IY\":\n",
    "            i_annotations.append((start, end))\n",
    "        elif sound == \"EH\":\n",
    "            e_annotations.append((start, end))\n",
    "        elif sound == \"AA\":\n",
    "            a_annotations.append((start, end))\n",
    "        elif sound == \"UW\":\n",
    "            u_annotations.append((start, end))\n",
    "    return i_annotations, e_annotations, a_annotations, u_annotations\n",
    "\n",
    "# Get the formants of a vowel, given the formant data and annotations\n",
    "def get_vowel_data(formant_data, vowel_annotations):\n",
    "    vowel_f1 = np.array([])\n",
    "    vowel_f2 = np.array([])\n",
    "    for start, end in vowel_annotations:\n",
    "        time = formant_data[0]\n",
    "        mask = (time > start) & (time < end)\n",
    "        vowel_f1 = np.append(vowel_f1, formant_data[1, mask])\n",
    "        vowel_f2 = np.append(vowel_f2, formant_data[2, mask])\n",
    "    return np.vstack((vowel_f1, vowel_f2))"
   ]
  },
  {
   "cell_type": "markdown",
   "id": "7a7eec4a",
   "metadata": {},
   "source": [
    "## Collect data for one sentence in one condition"
   ]
  },
  {
   "cell_type": "code",
   "execution_count": null,
   "id": "c7416cd9",
   "metadata": {},
   "outputs": [],
   "source": [
    "def get_vowel_data_one_condition(condition, sentence):\n",
    "    # Find the text and file\n",
    "    c_id = condition - 1\n",
    "    s_id = sentence - 1\n",
    "    \n",
    "    text = TEXTS[s_id]\n",
    "    files = CONDITIONS_F[c_id]\n",
    "    file = files[s_id]\n",
    "    \n",
    "    # Find the alignment\n",
    "    label = f\"c{c_id}s{s_id}\"\n",
    "    alignment = ALIGNMENTS[label]\n",
    "    \n",
    "    # Get the vowel formant data\n",
    "    all_vowel_annotations = get_vowel_annotations(alignment)\n",
    "    formant_data = get_formant_data(file)\n",
    "    vowel_formants = [get_vowel_data(formant_data, v) \n",
    "                      for v in all_vowel_annotations]\n",
    "\n",
    "    # Package this data with vowel labels\n",
    "    vowel_data = {label: formants \n",
    "                  for label, formants in zip(VOWELS, all_vowel_formants)}\n",
    "\n",
    "    return vowel_data"
   ]
  },
  {
   "cell_type": "markdown",
   "id": "49edd91d",
   "metadata": {},
   "source": [
    "## Main function: get all vowel data"
   ]
  },
  {
   "cell_type": "code",
   "execution_count": null,
   "id": "d2a0eb95",
   "metadata": {},
   "outputs": [],
   "source": [
    "def get_all_vowel_data():\n",
    "    all_vowel_data = {}\n",
    "    for c_id in tqdm(range(4)):\n",
    "        for s_id in range(6):\n",
    "            label = f\"c{c_id}s{s_id}\"\n",
    "            data = analyze_vowels(c_id + 1, s_id + 1)\n",
    "            all_vowel_data[label] = data\n",
    "    return all_vowel_data\n",
    "\n",
    "all_vowel_data = get_all_vowel_data()"
   ]
  },
  {
   "cell_type": "markdown",
   "id": "fc19f30c",
   "metadata": {},
   "source": [
    "## Save vowel data"
   ]
  },
  {
   "cell_type": "code",
   "execution_count": null,
   "id": "4f5e13f5",
   "metadata": {},
   "outputs": [],
   "source": [
    "# Numpy arrays are not serializable, so convert them to lists.\n",
    "def serialize_data(data):\n",
    "    def convert(obj):\n",
    "        if isinstance(obj, np.ndarray):\n",
    "            return obj.tolist()\n",
    "    return json.dump(data, default=convert)\n",
    "\n",
    "with open(\"vowel_data.json\", \"w\") as outfile: \n",
    "    json.dump(sdf, outfile)"
   ]
  }
 ],
 "metadata": {
  "kernelspec": {
   "display_name": "Python 3 (ipykernel)",
   "language": "python",
   "name": "python3"
  },
  "language_info": {
   "codemirror_mode": {
    "name": "ipython",
    "version": 3
   },
   "file_extension": ".py",
   "mimetype": "text/x-python",
   "name": "python",
   "nbconvert_exporter": "python",
   "pygments_lexer": "ipython3",
   "version": "3.11.4"
  }
 },
 "nbformat": 4,
 "nbformat_minor": 5
}
